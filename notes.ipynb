{
 "cells": [
  {
   "cell_type": "markdown",
   "metadata": {},
   "source": [
    "- Read input line (most likely using cin.getline into a string)\n",
    "- Identify the first word and determine whether it maps to any function (e.g. you could use a simple switch statement, hash table, etc)\n",
    "- If it doesn't map to a function, post an error and reprint the prompt.\n",
    "- If it does map, you have to examine the other words in the line.\n",
    "- For each other word, you'll have to convert the string into whatever data type you want as the function parameters on a word-by-word basis (stringstreams will come in handy here).\n",
    "- Now you have to make sure that the parameters you supplied are legitimate for the function you've called. You can either pre-check them before calling the function, or check for errors inside the function.\n",
    "- Once you've verified your function name and parameters are correct (and of the right number) you can call the function."
   ]
  },
  {
   "cell_type": "markdown",
   "metadata": {},
   "source": [
    "add server start , stop servoces<br>\n",
    "when start command is executed ..server starts listening for connections <br>\n",
    "hence invoking socket classs"
   ]
  },
  {
   "cell_type": "markdown",
   "metadata": {},
   "source": []
  }
 ],
 "metadata": {
  "language_info": {
   "name": "python"
  }
 },
 "nbformat": 4,
 "nbformat_minor": 2
}
